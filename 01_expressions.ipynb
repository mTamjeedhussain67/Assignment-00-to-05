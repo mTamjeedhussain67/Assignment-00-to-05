{
  "nbformat": 4,
  "nbformat_minor": 0,
  "metadata": {
    "colab": {
      "provenance": [],
      "authorship_tag": "ABX9TyN4RZE6L3lFNVMS5fa60zO9",
      "include_colab_link": true
    },
    "kernelspec": {
      "name": "python3",
      "display_name": "Python 3"
    },
    "language_info": {
      "name": "python"
    }
  },
  "cells": [
    {
      "cell_type": "markdown",
      "metadata": {
        "id": "view-in-github",
        "colab_type": "text"
      },
      "source": [
        "<a href=\"https://colab.research.google.com/github/Rizwan114/Project_04/blob/main/01_expressions.ipynb\" target=\"_parent\"><img src=\"https://colab.research.google.com/assets/colab-badge.svg\" alt=\"Open In Colab\"/></a>"
      ]
    },
    {
      "cell_type": "markdown",
      "source": [
        "#**01_dicesimulator**"
      ],
      "metadata": {
        "id": "Fg1qLJKEH5jR"
      }
    },
    {
      "cell_type": "code",
      "execution_count": 5,
      "metadata": {
        "colab": {
          "base_uri": "https://localhost:8080/"
        },
        "id": "So7htD-0H1Ql",
        "outputId": "1d3f9cc4-54fc-490a-ba96-b6b34fc664af"
      },
      "outputs": [
        {
          "output_type": "stream",
          "name": "stdout",
          "text": [
            "\n",
            "Roll #1:\n",
            "Roll: 1, 6\n",
            "Roll: 4, 6\n",
            "\n",
            "Roll #2:\n",
            "Roll: 4, 4\n",
            "Roll: 5, 6\n",
            "\n",
            "Roll #3:\n",
            "Roll: 3, 1\n",
            "Roll: 6, 1\n"
          ]
        }
      ],
      "source": [
        "import random\n",
        "import time\n",
        "\n",
        "die1 = 0\n",
        "die2 = 0\n",
        "\n",
        "def rool_dice():\n",
        "    die1 = random.randint(1,6)\n",
        "    die2 = random.randint(1,6)\n",
        "    print(f\"Roll: {die1}, {die2}\")\n",
        "    return die1, die2\n",
        "\n",
        "\n",
        "for i in range(3):\n",
        "    print(f\"\\nRoll #{i + 1}:\")\n",
        "    result1, result2 = rool_dice()\n",
        "    time.sleep(0.5)\n",
        "    rool_dice()"
      ]
    },
    {
      "cell_type": "markdown",
      "source": [
        "#**02_e=mc2**"
      ],
      "metadata": {
        "id": "Ze4wRgFsL7V6"
      }
    },
    {
      "cell_type": "code",
      "source": [
        "def main():\n",
        "    C = 299792458\n",
        "\n",
        "    mass = float(input(\"Enter kilos of mass: \"))\n",
        "\n",
        "    print(\"\\ne = m * C^2...\")\n",
        "    print(f\"\\nm = {mass} kg\")\n",
        "    print(f\"C = {C} m/s\")\n",
        "\n",
        "    energy = mass * (C ** 2)\n",
        "\n",
        "    print(f\"\\n{energy} joules of energy!\")\n",
        "\n",
        "if __name__ == \"__main__\":\n",
        "    main()"
      ],
      "metadata": {
        "colab": {
          "base_uri": "https://localhost:8080/"
        },
        "id": "3lPIcTjqL_Mw",
        "outputId": "5a475eab-018c-4983-a985-b9b20983c4c6"
      },
      "execution_count": 6,
      "outputs": [
        {
          "output_type": "stream",
          "name": "stdout",
          "text": [
            "Enter kilos of mass: 2\n",
            "\n",
            "e = m * C^2...\n",
            "\n",
            "m = 2.0 kg\n",
            "C = 299792458 m/s\n",
            "\n",
            "1.7975103574736352e+17 joules of energy!\n"
          ]
        }
      ]
    },
    {
      "cell_type": "markdown",
      "source": [
        "#**03_feet_to_inches**"
      ],
      "metadata": {
        "id": "TPxkb8oAMvhR"
      }
    },
    {
      "cell_type": "code",
      "source": [
        "def main():\n",
        "    feet = float(input(\"Enter feet: \"))\n",
        "    inches = feet * 12\n",
        "    print(f\"{feet} feet = {inches} inches\")\n",
        "\n",
        "if __name__ == \"__main__\":\n",
        "    main()"
      ],
      "metadata": {
        "colab": {
          "base_uri": "https://localhost:8080/"
        },
        "id": "QVvInsfOMy9g",
        "outputId": "79d2db64-22c0-4c6d-cc45-7c1dcee087f2"
      },
      "execution_count": 7,
      "outputs": [
        {
          "output_type": "stream",
          "name": "stdout",
          "text": [
            "Enter feet: 2\n",
            "2.0 feet = 24.0 inches\n"
          ]
        }
      ]
    },
    {
      "cell_type": "markdown",
      "source": [
        "#**04_pythagorean_theorem**"
      ],
      "metadata": {
        "id": "CZBCI2IGN9-J"
      }
    },
    {
      "cell_type": "code",
      "source": [
        "import math\n",
        "\n",
        "def main():\n",
        "    ab = float(input(\"Enter the length of AB: \"))\n",
        "    ac = float(input(\"Enter the length of AC: \"))\n",
        "\n",
        "    bc = math.sqrt(ab**2 + ac**2)\n",
        "\n",
        "    print(f\"\\nThe length of BC (the hypotenuse) is: {bc}\")\n",
        "\n",
        "if __name__ == \"__main__\":\n",
        "    main()"
      ],
      "metadata": {
        "colab": {
          "base_uri": "https://localhost:8080/"
        },
        "id": "5UHM4WG8OBuQ",
        "outputId": "6c52f174-3cc9-4062-a1d0-3f29e125171f"
      },
      "execution_count": 8,
      "outputs": [
        {
          "output_type": "stream",
          "name": "stdout",
          "text": [
            "Enter the length of AB: 3\n",
            "Enter the length of AC: 2\n",
            "\n",
            "The length of BC (the hypotenuse) is: 3.605551275463989\n"
          ]
        }
      ]
    },
    {
      "cell_type": "markdown",
      "source": [
        "#**05_remainder_division**"
      ],
      "metadata": {
        "id": "OHOn-paCPTBx"
      }
    },
    {
      "cell_type": "code",
      "source": [
        "def main():\n",
        "    dividend = int(input(\"Enter the dividend: \"))\n",
        "    divisor = int(input(\"Enter the divisor: \"))\n",
        "\n",
        "    quotient = dividend // divisor\n",
        "    remainder = dividend % divisor\n",
        "\n",
        "    print(\"The result of this division is:\" +str(quotient) + \" with a remainder of: \" + str(remainder))\n",
        "\n",
        "if __name__ == \"__main__\":\n",
        "    main()"
      ],
      "metadata": {
        "colab": {
          "base_uri": "https://localhost:8080/"
        },
        "id": "zkUBE6sbPWYJ",
        "outputId": "ae228223-0d4d-43b4-a864-2cb880af5693"
      },
      "execution_count": 11,
      "outputs": [
        {
          "output_type": "stream",
          "name": "stdout",
          "text": [
            "Enter the dividend: 6\n",
            "Enter the divisor: 9\n",
            "The result of this division is:0 with a remainder of: 6\n"
          ]
        }
      ]
    },
    {
      "cell_type": "markdown",
      "source": [
        "#**06_rolldice**"
      ],
      "metadata": {
        "id": "GaatpmYsQruR"
      }
    },
    {
      "cell_type": "code",
      "source": [
        "import random\n",
        "\n",
        "def roll_dice():\n",
        "\n",
        "    die1 = random.randint(1, 6)\n",
        "    die2 = random.randint(1, 6)\n",
        "\n",
        "    print(f\"First die: {die1}\")\n",
        "    print(f\"Second die: {die2}\")\n",
        "\n",
        "    total = die1 + die2\n",
        "    print(f\"Total: {total}\")\n",
        "\n",
        "    return die1, die2\n",
        "\n",
        "if __name__ == \"__main__\":\n",
        "    roll_dice()"
      ],
      "metadata": {
        "colab": {
          "base_uri": "https://localhost:8080/"
        },
        "id": "3U-hbCViQvMS",
        "outputId": "b3b4033f-8f06-4fa6-cdca-eccb1d973e3c"
      },
      "execution_count": 15,
      "outputs": [
        {
          "output_type": "stream",
          "name": "stdout",
          "text": [
            "First die: 4\n",
            "Second die: 2\n",
            "Total: 6\n"
          ]
        }
      ]
    },
    {
      "cell_type": "markdown",
      "source": [
        "#**06_seconds_in_year**"
      ],
      "metadata": {
        "id": "f7UoNAjQRN_x"
      }
    },
    {
      "cell_type": "code",
      "source": [
        "def main():\n",
        "    DAYS_IN_YEAR = 365\n",
        "    HOURS_IN_DAY = 24\n",
        "    MINUTES_IN_HOUR = 60\n",
        "    SECONDS_IN_MINUTE = 60\n",
        "\n",
        "    total_seconds = (DAYS_IN_YEAR * HOURS_IN_DAY *\n",
        "                MINUTES_IN_HOUR * SECONDS_IN_MINUTE)\n",
        "\n",
        "    print(f\"There are {total_seconds} seconds in a year!\")\n",
        "\n",
        "if __name__ == \"__main__\":\n",
        "    main()"
      ],
      "metadata": {
        "colab": {
          "base_uri": "https://localhost:8080/"
        },
        "id": "qCXVlDYCRREY",
        "outputId": "7097514b-d4f7-41d1-dae4-79a40d25361b"
      },
      "execution_count": 19,
      "outputs": [
        {
          "output_type": "stream",
          "name": "stdout",
          "text": [
            "There are 31536000 seconds in a year!\n"
          ]
        }
      ]
    },
    {
      "cell_type": "markdown",
      "source": [
        "#**07_tiny_mad_lib**"
      ],
      "metadata": {
        "id": "9eX3F2dPR3fa"
      }
    },
    {
      "cell_type": "code",
      "source": [
        "def main():\n",
        "    SENTENCE_START = \"Code in Place is fun. I learned to program and used Python to make my\"\n",
        "\n",
        "\n",
        "    adjective = input(\"Please type an adjective and press enter. \")\n",
        "    noun = input(\"Please type a noun and press enter. \")\n",
        "    verb = input(\"Please type a verb and press enter. \")\n",
        "\n",
        "\n",
        "    sentence = f\"{SENTENCE_START} {adjective} {noun} {verb}!\"\n",
        "    print(sentence)\n",
        "\n",
        "if __name__ == \"__main__\":\n",
        "    main()"
      ],
      "metadata": {
        "colab": {
          "base_uri": "https://localhost:8080/"
        },
        "id": "pMEqbel5R6yS",
        "outputId": "47329661-ffc3-4d23-c045-d2c825347ba5"
      },
      "execution_count": 22,
      "outputs": [
        {
          "output_type": "stream",
          "name": "stdout",
          "text": [
            "Please type an adjective and press enter. karachi\n",
            "Please type a noun and press enter. park\n",
            "Please type a verb and press enter. house\n",
            "Code in Place is fun. I learned to program and used Python to make my karachi park house!\n"
          ]
        }
      ]
    },
    {
      "cell_type": "code",
      "source": [
        "()"
      ],
      "metadata": {
        "id": "OpLtBJbARdjx"
      },
      "execution_count": null,
      "outputs": []
    }
  ]
}