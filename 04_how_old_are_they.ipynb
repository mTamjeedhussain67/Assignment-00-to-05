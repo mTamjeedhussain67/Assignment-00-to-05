{
  "nbformat": 4,
  "nbformat_minor": 0,
  "metadata": {
    "colab": {
      "provenance": [],
      "authorship_tag": "ABX9TyPBRgMfi9NmEbpAWfrVm5Wu",
      "include_colab_link": true
    },
    "kernelspec": {
      "name": "python3",
      "display_name": "Python 3"
    },
    "language_info": {
      "name": "python"
    }
  },
  "cells": [
    {
      "cell_type": "markdown",
      "metadata": {
        "id": "view-in-github",
        "colab_type": "text"
      },
      "source": [
        "<a href=\"https://colab.research.google.com/github/mTamjeedhussain67/Assignment-00-to-05/blob/main/04_how_old_are_they.ipynb\" target=\"_parent\"><img src=\"https://colab.research.google.com/assets/colab-badge.svg\" alt=\"Open In Colab\"/></a>"
      ]
    },
    {
      "cell_type": "code",
      "execution_count": 6,
      "metadata": {
        "colab": {
          "base_uri": "https://localhost:8080/"
        },
        "id": "qYtRQQoxoial",
        "outputId": "3f3fdbbd-5818-4b8c-d073-008dd04f23d1"
      },
      "outputs": [
        {
          "output_type": "stream",
          "name": "stdout",
          "text": [
            "Anton is 21.\n",
            "Beth is 27.\n",
            "Chen is 47.\n",
            "Drew is 68.\n",
            "Ethan is 47.\n"
          ]
        }
      ],
      "source": [
        "def main():\n",
        "    Anton  = 21\n",
        "    Beth = 6 + Anton\n",
        "    Chen = 20 + Beth\n",
        "    Drew = Chen + Anton\n",
        "    Ethan = Chen\n",
        "\n",
        "    print(f\"Anton is {Anton}.\")\n",
        "    print(f\"Beth is {Beth}.\")\n",
        "    print(f\"Chen is {Chen}.\")\n",
        "    print(f\"Drew is {Drew}.\")\n",
        "    print(f\"Ethan is {Ethan}.\")\n",
        "\n",
        "if __name__ == \"__main__\":\n",
        "     main()"
      ]
    },
    {
      "cell_type": "code",
      "source": [],
      "metadata": {
        "id": "2jDPa6eWoxkZ"
      },
      "execution_count": null,
      "outputs": []
    }
  ]
}