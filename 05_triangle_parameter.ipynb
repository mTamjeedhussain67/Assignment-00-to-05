{
  "nbformat": 4,
  "nbformat_minor": 0,
  "metadata": {
    "colab": {
      "provenance": [],
      "authorship_tag": "ABX9TyM0gydTcbXJ8A54mI8mOu8/",
      "include_colab_link": true
    },
    "kernelspec": {
      "name": "python3",
      "display_name": "Python 3"
    },
    "language_info": {
      "name": "python"
    }
  },
  "cells": [
    {
      "cell_type": "markdown",
      "metadata": {
        "id": "view-in-github",
        "colab_type": "text"
      },
      "source": [
        "<a href=\"https://colab.research.google.com/github/mTamjeedhussain67/Assignment-00-to-05/blob/main/05_triangle_parameter.ipynb\" target=\"_parent\"><img src=\"https://colab.research.google.com/assets/colab-badge.svg\" alt=\"Open In Colab\"/></a>"
      ]
    },
    {
      "cell_type": "code",
      "execution_count": 4,
      "metadata": {
        "colab": {
          "base_uri": "https://localhost:8080/"
        },
        "id": "qYtRQQoxoial",
        "outputId": "57e1c4b2-6ce5-4636-c91a-7e16f3828f7b"
      },
      "outputs": [
        {
          "output_type": "stream",
          "name": "stdout",
          "text": [
            "What is the length of side 1: 30\n",
            "What is the length of side 2: 40\n",
            "What is the length of side 3: 50\n",
            "The parameter of the triangle is 120.\n"
          ]
        }
      ],
      "source": [
        "def main(prompt):\n",
        "    print(f\"The parameter of the triangle is {prompt}.\")\n",
        "\n",
        "side1 = int(input(\"What is the length of side 1: \"))\n",
        "side2 = int(input(\"What is the length of side 2: \"))\n",
        "side3 = int(input(\"What is the length of side 3: \"))\n",
        "parameter = (side1 + side2 + side3)\n",
        "res = main(parameter)"
      ]
    },
    {
      "cell_type": "code",
      "source": [],
      "metadata": {
        "id": "2jDPa6eWoxkZ"
      },
      "execution_count": null,
      "outputs": []
    }
  ]
}