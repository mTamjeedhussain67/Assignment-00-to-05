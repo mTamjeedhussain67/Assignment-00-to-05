{
  "nbformat": 4,
  "nbformat_minor": 0,
  "metadata": {
    "colab": {
      "provenance": [],
      "authorship_tag": "ABX9TyPUq81++6UhRNAzmk+ITOCm",
      "include_colab_link": true
    },
    "kernelspec": {
      "name": "python3",
      "display_name": "Python 3"
    },
    "language_info": {
      "name": "python"
    }
  },
  "cells": [
    {
      "cell_type": "markdown",
      "metadata": {
        "id": "view-in-github",
        "colab_type": "text"
      },
      "source": [
        "<a href=\"https://colab.research.google.com/github/Rizwan114/Project_04/blob/main/07_information_flow.ipynb\" target=\"_parent\"><img src=\"https://colab.research.google.com/assets/colab-badge.svg\" alt=\"Open In Colab\"/></a>"
      ]
    },
    {
      "cell_type": "markdown",
      "source": [
        "#**00_choosing_returns**"
      ],
      "metadata": {
        "id": "Tloc6y1d02NC"
      }
    },
    {
      "cell_type": "code",
      "execution_count": 2,
      "metadata": {
        "colab": {
          "base_uri": "https://localhost:8080/"
        },
        "id": "PauyDBtu0xZL",
        "outputId": "ab7a0f86-a00a-406c-e4b3-e08b96fcab91"
      },
      "outputs": [
        {
          "output_type": "stream",
          "name": "stdout",
          "text": [
            "How old is this person?: 44\n",
            "True\n"
          ]
        }
      ],
      "source": [
        "ADULT_AGE = 18\n",
        "\n",
        "def is_adult(age: int):\n",
        "\n",
        "    if age >= ADULT_AGE:\n",
        "        return True\n",
        "    return False\n",
        "\n",
        "def main():\n",
        "\n",
        "    age = int(input(\"How old is this person?: \"))\n",
        "\n",
        "    print(is_adult(age))\n",
        "\n",
        "if __name__ == \"__main__\":\n",
        "    main()"
      ]
    },
    {
      "cell_type": "markdown",
      "source": [
        "#**01_greetings**"
      ],
      "metadata": {
        "id": "J9dGLnGl1Uf_"
      }
    },
    {
      "cell_type": "code",
      "source": [
        "def greet(name):\n",
        "    return \"Greetings \" + name + \"!\"\n",
        "\n",
        "def main():\n",
        "\n",
        "    name = input(\"What's your name? \")\n",
        "\n",
        "    print(greet(name))\n",
        "\n",
        "if __name__ == '__main__':\n",
        "    main()"
      ],
      "metadata": {
        "colab": {
          "base_uri": "https://localhost:8080/"
        },
        "id": "TEbFTxgv1g8r",
        "outputId": "7d77e10b-249e-4f27-8eeb-9e22489f0061"
      },
      "execution_count": 3,
      "outputs": [
        {
          "output_type": "stream",
          "name": "stdout",
          "text": [
            "What's your name? rzwan\n",
            "Greetings rzwan!\n"
          ]
        }
      ]
    },
    {
      "cell_type": "markdown",
      "source": [
        "#**02_in_range**"
      ],
      "metadata": {
        "id": "s5imC5w_13R4"
      }
    },
    {
      "cell_type": "code",
      "source": [
        "def in_range(n, low, high):\n",
        "    \"\"\"\n",
        "    Returns True if n is between low and high, inclusive.\n",
        "    high is guaranteed to be greater than low.\n",
        "    \"\"\"\n",
        "    if low <= n <= high:\n",
        "        return True\n",
        "    return False\n",
        "\n",
        "def main():\n",
        "\n",
        "    n = int(input(\"Enter a number: \"))\n",
        "    low = int(input(\"Enter the low range: \"))\n",
        "    high = int(input(\"Enter the high range: \"))\n",
        "\n",
        "    if in_range(n, low, high):\n",
        "        print(f\"{n} is in range.\")\n",
        "    else:\n",
        "        print(f\"{n} is not in range.\")\n",
        "\n",
        "if __name__ == '__main__':\n",
        "    main()"
      ],
      "metadata": {
        "colab": {
          "base_uri": "https://localhost:8080/"
        },
        "id": "ocfSpZjA19LV",
        "outputId": "72c6da1b-497d-4cf3-b3b9-5fbbfb9bde5e"
      },
      "execution_count": 4,
      "outputs": [
        {
          "output_type": "stream",
          "name": "stdout",
          "text": [
            "Enter a number: 2\n",
            "Enter the low range: 2\n",
            "Enter the high range: 23\n",
            "2 is in range.\n"
          ]
        }
      ]
    },
    {
      "cell_type": "markdown",
      "source": [
        "#**03_in_stock**"
      ],
      "metadata": {
        "id": "SVSGHh3t2PGf"
      }
    },
    {
      "cell_type": "code",
      "source": [
        "def num_in_stock(fruit):\n",
        "    \"\"\"\n",
        "    This function returns the number of fruit Sophia has in stock.\n",
        "    \"\"\"\n",
        "    if fruit == 'apple':\n",
        "        return 2\n",
        "    if fruit == 'durian':\n",
        "        return 4\n",
        "    if fruit == 'pear':\n",
        "        return 1000\n",
        "    else:\n",
        "\n",
        "        return 0\n",
        "\n",
        "def main():\n",
        "    fruit = input(\"Enter a fruit: \")\n",
        "    stock = num_in_stock(fruit)\n",
        "\n",
        "    if stock == 0:\n",
        "        print(\"This fruit is not in stock.\")\n",
        "    else:\n",
        "        print(\"This fruit is in stock! Here is how many:\")\n",
        "        print(stock)\n",
        "\n",
        "if __name__ == '__main__':\n",
        "    main()"
      ],
      "metadata": {
        "colab": {
          "base_uri": "https://localhost:8080/"
        },
        "id": "EyBB559K2VMs",
        "outputId": "458bc8eb-fa0b-4188-fe31-078145f9b65f"
      },
      "execution_count": 5,
      "outputs": [
        {
          "output_type": "stream",
          "name": "stdout",
          "text": [
            "Enter a fruit: apple\n",
            "This fruit is in stock! Here is how many:\n",
            "2\n"
          ]
        }
      ]
    },
    {
      "cell_type": "markdown",
      "source": [
        "#**04_multiple_returns**"
      ],
      "metadata": {
        "id": "IVezPwf92nnq"
      }
    },
    {
      "cell_type": "code",
      "source": [
        "def get_user_info():\n",
        "\n",
        "    first_name = input(\"What is your first name?: \")\n",
        "    last_name = input(\"What is your last name?: \")\n",
        "    email_address = input(\"What is your email address?: \")\n",
        "\n",
        "    return first_name, last_name, email_address\n",
        "\n",
        "def main():\n",
        "\n",
        "    user_data = get_user_info()\n",
        "\n",
        "    print(\"Received the following user data:\", user_data)\n",
        "\n",
        "if __name__ == \"__main__\":\n",
        "    main()"
      ],
      "metadata": {
        "colab": {
          "base_uri": "https://localhost:8080/"
        },
        "id": "uI5q3eOO2v5r",
        "outputId": "38f050ef-1baa-461f-c58d-03181c516aea"
      },
      "execution_count": 6,
      "outputs": [
        {
          "output_type": "stream",
          "name": "stdout",
          "text": [
            "What is your first name?: rizwan\n",
            "What is your last name?: Ali\n",
            "What is your email address?: califton\n",
            "Received the following user data: ('rizwan', 'Ali', 'califton')\n"
          ]
        }
      ]
    },
    {
      "cell_type": "markdown",
      "source": [
        "#**05_subtract_7**"
      ],
      "metadata": {
        "id": "tHKLeG-43OIZ"
      }
    },
    {
      "cell_type": "code",
      "source": [
        "def subtract_seven(num):\n",
        "\n",
        "    num = num - 7\n",
        "    return num\n",
        "\n",
        "def main():\n",
        "    num = 7\n",
        "    num = subtract_seven(num)\n",
        "    print(\"This should be zero:\", num)\n",
        "\n",
        "if __name__ == '__main__':\n",
        "    main()"
      ],
      "metadata": {
        "colab": {
          "base_uri": "https://localhost:8080/"
        },
        "id": "nERKGG6N3UTb",
        "outputId": "9f027a8a-9f53-4540-89fa-100efd4fb8f9"
      },
      "execution_count": 7,
      "outputs": [
        {
          "output_type": "stream",
          "name": "stdout",
          "text": [
            "This should be zero: 0\n"
          ]
        }
      ]
    }
  ]
}