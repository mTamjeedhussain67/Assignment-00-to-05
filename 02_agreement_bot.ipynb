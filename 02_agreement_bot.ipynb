{
  "nbformat": 4,
  "nbformat_minor": 0,
  "metadata": {
    "colab": {
      "provenance": [],
      "authorship_tag": "ABX9TyM6jRuKHsxuOKsRvsXFqZS7",
      "include_colab_link": true
    },
    "kernelspec": {
      "name": "python3",
      "display_name": "Python 3"
    },
    "language_info": {
      "name": "python"
    }
  },
  "cells": [
    {
      "cell_type": "markdown",
      "metadata": {
        "id": "view-in-github",
        "colab_type": "text"
      },
      "source": [
        "<a href=\"https://colab.research.google.com/github/mTamjeedhussain67/Assignment-00-to-05/blob/main/02_agreement_bot.ipynb\" target=\"_parent\"><img src=\"https://colab.research.google.com/assets/colab-badge.svg\" alt=\"Open In Colab\"/></a>"
      ]
    },
    {
      "cell_type": "code",
      "execution_count": null,
      "metadata": {
        "colab": {
          "base_uri": "https://localhost:8080/"
        },
        "id": "qYtRQQoxoial",
        "outputId": "333105e3-6a3a-4671-cb02-6e40b6838652"
      },
      "outputs": [
        {
          "output_type": "stream",
          "name": "stdout",
          "text": [
            "What's your favourite animal? cat\n",
            "My favourite animal is also cat.\n"
          ]
        }
      ],
      "source": [
        "def main():\n",
        "    user_input: str = input(\"What's your favourite animal? \")\n",
        "    message : str = (f\"My favourite animal is also {user_input}.\")\n",
        "    print (message)\n",
        "\n",
        "if __name__ == \"__main__\":\n",
        "    main()"
      ]
    },
    {
      "cell_type": "code",
      "source": [],
      "metadata": {
        "id": "2jDPa6eWoxkZ"
      },
      "execution_count": null,
      "outputs": []
    }
  ]
}