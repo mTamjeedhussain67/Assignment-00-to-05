{
  "nbformat": 4,
  "nbformat_minor": 0,
  "metadata": {
    "colab": {
      "provenance": [],
      "authorship_tag": "ABX9TyMY9OSh7FZXnGeFSoubXZSD",
      "include_colab_link": true
    },
    "kernelspec": {
      "name": "python3",
      "display_name": "Python 3"
    },
    "language_info": {
      "name": "python"
    }
  },
  "cells": [
    {
      "cell_type": "markdown",
      "metadata": {
        "id": "view-in-github",
        "colab_type": "text"
      },
      "source": [
        "<a href=\"https://colab.research.google.com/github/mTamjeedhussain67/Assignment-00-to-05/blob/main/01%20add%20two%20numbers.ipynb\" target=\"_parent\"><img src=\"https://colab.research.google.com/assets/colab-badge.svg\" alt=\"Open In Colab\"/></a>"
      ]
    },
    {
      "cell_type": "code",
      "execution_count": 2,
      "metadata": {
        "colab": {
          "base_uri": "https://localhost:8080/"
        },
        "id": "qYtRQQoxoial",
        "outputId": "9c1bdc1d-1137-4925-d61c-cdb7c2eca90a"
      },
      "outputs": [
        {
          "output_type": "stream",
          "name": "stdout",
          "text": [
            "Enter a number: 3\n",
            "Enter a number: 4\n",
            "The sum is 7\n"
          ]
        }
      ],
      "source": [
        "def main():\n",
        "    num1 = (input(\"Enter a number: \"))\n",
        "    num1 = int(num1)\n",
        "    num2 = (input(\"Enter a number: \"))\n",
        "    num2 = int(num2)\n",
        "    sum = (num1 + num2)\n",
        "    print(f\"The sum is {sum}\")\n",
        "\n",
        "if __name__ == \"__main__\":\n",
        "    main()"
      ]
    },
    {
      "cell_type": "code",
      "source": [],
      "metadata": {
        "id": "2jDPa6eWoxkZ"
      },
      "execution_count": null,
      "outputs": []
    }
  ]
}