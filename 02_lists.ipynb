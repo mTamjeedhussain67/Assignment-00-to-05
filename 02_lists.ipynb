{
  "nbformat": 4,
  "nbformat_minor": 0,
  "metadata": {
    "colab": {
      "provenance": [],
      "authorship_tag": "ABX9TyOeeT8oDHPX4s590mvlFufC",
      "include_colab_link": true
    },
    "kernelspec": {
      "name": "python3",
      "display_name": "Python 3"
    },
    "language_info": {
      "name": "python"
    }
  },
  "cells": [
    {
      "cell_type": "markdown",
      "metadata": {
        "id": "view-in-github",
        "colab_type": "text"
      },
      "source": [
        "<a href=\"https://colab.research.google.com/github/Rizwan114/Project_04/blob/main/02_lists.ipynb\" target=\"_parent\"><img src=\"https://colab.research.google.com/assets/colab-badge.svg\" alt=\"Open In Colab\"/></a>"
      ]
    },
    {
      "cell_type": "markdown",
      "source": [
        "#**01_add_many_number.md**"
      ],
      "metadata": {
        "id": "AGJ6ngwJPZSZ"
      }
    },
    {
      "cell_type": "code",
      "execution_count": 26,
      "metadata": {
        "colab": {
          "base_uri": "https://localhost:8080/"
        },
        "id": "ExIZ43HSPNfP",
        "outputId": "7a047908-f296-4ad8-b9af-e116103f01ae"
      },
      "outputs": [
        {
          "output_type": "stream",
          "name": "stdout",
          "text": [
            "15\n"
          ]
        }
      ],
      "source": [
        "def add_many_numbers(numbers)-> int:\n",
        "    \"\"\"\n",
        "      Take in a list of numbers and retrun the sum of those numbers.\n",
        "    \"\"\"\n",
        "    total_so_far: int = 0\n",
        "\n",
        "    for number in numbers:\n",
        "        total_so_far += number\n",
        "\n",
        "    return total_so_far\n",
        "\n",
        "def main():\n",
        "    numbers: list[int] = [1,2,3,4,5]\n",
        "    sum_of_numbers: int = add_many_numbers(numbers)\n",
        "    print(sum_of_numbers)\n",
        "\n",
        "if __name__ == \"__main__\":\n",
        "    main()"
      ]
    },
    {
      "cell_type": "markdown",
      "source": [
        "#**02_double_list**"
      ],
      "metadata": {
        "id": "L9xoCVDHSDuy"
      }
    },
    {
      "cell_type": "code",
      "source": [
        "def main():\n",
        "    numbers: list[int] = [1, 2, 3, 4]\n",
        "\n",
        "    for i in range(len(numbers)):\n",
        "        element_in_index = numbers[i]\n",
        "        numbers[i] = element_in_index * 2\n",
        "\n",
        "    print(numbers)\n",
        "\n",
        "if __name__ == \"__main__\":\n",
        "    main()"
      ],
      "metadata": {
        "colab": {
          "base_uri": "https://localhost:8080/"
        },
        "id": "uhkgVvotSOkg",
        "outputId": "957f4c92-f847-475a-baae-ec7046dfd3fd"
      },
      "execution_count": 8,
      "outputs": [
        {
          "output_type": "stream",
          "name": "stdout",
          "text": [
            "[2, 4, 6, 8]\n"
          ]
        }
      ]
    },
    {
      "cell_type": "markdown",
      "source": [
        "#**03_erase_canvas**"
      ],
      "metadata": {
        "id": "ndxJCBqcTi8u"
      }
    },
    {
      "cell_type": "code",
      "source": [
        "\"\"\"\n",
        "!pip install pygame\n",
        "!apt-get install -y xvfb python-opengl > /dev/null 2>&1\n",
        "!pip install pyglet\n",
        "!pip install gym\n",
        "\"\"\"\n",
        "\n",
        "import pygame\n",
        "import sys\n",
        "import numpy as np\n",
        "from IPython import display\n",
        "import PIL.Image\n",
        "from IPython.display import HTML, display\n",
        "\n",
        "\n",
        "pygame.init()\n",
        "\n",
        "WINDOW_SIZE = 400\n",
        "GRID_SIZE = 10\n",
        "CELL_SIZE = WINDOW_SIZE // GRID_SIZE\n",
        "ERASER_SIZE = 20\n",
        "\n",
        "BLUE = (0, 0, 255)\n",
        "WHITE = (255, 255, 255)\n",
        "BLACK = (0, 0, 0)\n",
        "\n",
        "screen = pygame.Surface((WINDOW_SIZE, WINDOW_SIZE))\n",
        "pygame.display.set_caption(\"Eraser Canvas\")\n",
        "\n",
        "grid = np.ones((10, 10))\n",
        "\n",
        "def create_grid_html(grid):\n",
        "    \"\"\"Convert grid to HTML table with colored cells\"\"\"\n",
        "    html = '<table style=\"border-collapse: collapse;\">'\n",
        "    for row in grid:\n",
        "        html += '<tr>'\n",
        "        for cell in row:\n",
        "            color = 'blue' if cell == 1 else 'white'\n",
        "            html += f'<td style=\"width: 30px; height: 30px; border: 1px solid black; background-color: {color}\"></td>'\n",
        "        html += '</tr>'\n",
        "    html += '</table>'\n",
        "    return html\n",
        "\n",
        "def erase_cell(x, y):\n",
        "    \"\"\"Erase a cell at position (x, y)\"\"\"\n",
        "    if 0 <= x < 10 and 0 <= y < 10:\n",
        "        grid[y][x] = 0\n",
        "        display(HTML(create_grid_html(grid)))\n",
        "\n",
        "display(HTML(create_grid_html(grid)))\n",
        "\n",
        "\n",
        "print(\"To erase cells, run: erase_cell(x, y)\")\n",
        "print(\"where x and y are positions from 0-9\")\n",
        "print(\"Example: erase_cell(3, 4)\")\n",
        "\n",
        "def draw_grid(mouse_pos, mouse_pressed):\n",
        "\n",
        "    screen.fill(WHITE)\n",
        "\n",
        "    if mouse_pressed:\n",
        "        grid_x = mouse_pos[0] // CELL_SIZE\n",
        "        grid_y = mouse_pos[1] // CELL_SIZE\n",
        "        if 0 <= grid_x < GRID_SIZE and 0 <= grid_y < GRID_SIZE:\n",
        "            grid[grid_y][grid_x] = WHITE\n",
        "\n",
        "    for y in range(GRID_SIZE):\n",
        "        for x in range(GRID_SIZE):\n",
        "            rect = pygame.Rect(x * CELL_SIZE, y * CELL_SIZE, CELL_SIZE, CELL_SIZE)\n",
        "            pygame.draw.rect(screen, grid[y][x], rect)\n",
        "            pygame.draw.rect(screen, BLACK, rect, 1)\n",
        "\n",
        "\n",
        "    eraser_rect = pygame.Rect(mouse_pos[0] - ERASER_SIZE//2,\n",
        "                            mouse_pos[1] - ERASER_SIZE//2,\n",
        "                            ERASER_SIZE, ERASER_SIZE)\n",
        "    pygame.draw.rect(screen, WHITE, eraser_rect, 2)\n",
        "\n",
        "\n",
        "    string_image = pygame.image.tostring(screen, 'RGB')\n",
        "    pil_image = PIL.Image.frombytes('RGB', (WINDOW_SIZE, WINDOW_SIZE), string_image)\n",
        "\n",
        "    display.clear_output(wait=True)\n",
        "    display.display(pil_image)\n",
        "\n"
      ],
      "metadata": {
        "colab": {
          "base_uri": "https://localhost:8080/",
          "height": 400
        },
        "id": "yqFjz2IhTqCb",
        "outputId": "c720daa4-1265-424a-c150-eca793464335"
      },
      "execution_count": 25,
      "outputs": [
        {
          "output_type": "display_data",
          "data": {
            "text/plain": [
              "<IPython.core.display.HTML object>"
            ],
            "text/html": [
              "<table style=\"border-collapse: collapse;\"><tr><td style=\"width: 30px; height: 30px; border: 1px solid black; background-color: blue\"></td><td style=\"width: 30px; height: 30px; border: 1px solid black; background-color: blue\"></td><td style=\"width: 30px; height: 30px; border: 1px solid black; background-color: blue\"></td><td style=\"width: 30px; height: 30px; border: 1px solid black; background-color: blue\"></td><td style=\"width: 30px; height: 30px; border: 1px solid black; background-color: blue\"></td><td style=\"width: 30px; height: 30px; border: 1px solid black; background-color: blue\"></td><td style=\"width: 30px; height: 30px; border: 1px solid black; background-color: blue\"></td><td style=\"width: 30px; height: 30px; border: 1px solid black; background-color: blue\"></td><td style=\"width: 30px; height: 30px; border: 1px solid black; background-color: blue\"></td><td style=\"width: 30px; height: 30px; border: 1px solid black; background-color: blue\"></td></tr><tr><td style=\"width: 30px; height: 30px; border: 1px solid black; background-color: blue\"></td><td style=\"width: 30px; height: 30px; border: 1px solid black; background-color: blue\"></td><td style=\"width: 30px; height: 30px; border: 1px solid black; background-color: blue\"></td><td style=\"width: 30px; height: 30px; border: 1px solid black; background-color: blue\"></td><td style=\"width: 30px; height: 30px; border: 1px solid black; background-color: blue\"></td><td style=\"width: 30px; height: 30px; border: 1px solid black; background-color: blue\"></td><td style=\"width: 30px; height: 30px; border: 1px solid black; background-color: blue\"></td><td style=\"width: 30px; height: 30px; border: 1px solid black; background-color: blue\"></td><td style=\"width: 30px; height: 30px; border: 1px solid black; background-color: blue\"></td><td style=\"width: 30px; height: 30px; border: 1px solid black; background-color: blue\"></td></tr><tr><td style=\"width: 30px; height: 30px; border: 1px solid black; background-color: blue\"></td><td style=\"width: 30px; height: 30px; border: 1px solid black; background-color: blue\"></td><td style=\"width: 30px; height: 30px; border: 1px solid black; background-color: blue\"></td><td style=\"width: 30px; height: 30px; border: 1px solid black; background-color: blue\"></td><td style=\"width: 30px; height: 30px; border: 1px solid black; background-color: blue\"></td><td style=\"width: 30px; height: 30px; border: 1px solid black; background-color: blue\"></td><td style=\"width: 30px; height: 30px; border: 1px solid black; background-color: blue\"></td><td style=\"width: 30px; height: 30px; border: 1px solid black; background-color: blue\"></td><td style=\"width: 30px; height: 30px; border: 1px solid black; background-color: blue\"></td><td style=\"width: 30px; height: 30px; border: 1px solid black; background-color: blue\"></td></tr><tr><td style=\"width: 30px; height: 30px; border: 1px solid black; background-color: blue\"></td><td style=\"width: 30px; height: 30px; border: 1px solid black; background-color: blue\"></td><td style=\"width: 30px; height: 30px; border: 1px solid black; background-color: blue\"></td><td style=\"width: 30px; height: 30px; border: 1px solid black; background-color: blue\"></td><td style=\"width: 30px; height: 30px; border: 1px solid black; background-color: blue\"></td><td style=\"width: 30px; height: 30px; border: 1px solid black; background-color: blue\"></td><td style=\"width: 30px; height: 30px; border: 1px solid black; background-color: blue\"></td><td style=\"width: 30px; height: 30px; border: 1px solid black; background-color: blue\"></td><td style=\"width: 30px; height: 30px; border: 1px solid black; background-color: blue\"></td><td style=\"width: 30px; height: 30px; border: 1px solid black; background-color: blue\"></td></tr><tr><td style=\"width: 30px; height: 30px; border: 1px solid black; background-color: blue\"></td><td style=\"width: 30px; height: 30px; border: 1px solid black; background-color: blue\"></td><td style=\"width: 30px; height: 30px; border: 1px solid black; background-color: blue\"></td><td style=\"width: 30px; height: 30px; border: 1px solid black; background-color: blue\"></td><td style=\"width: 30px; height: 30px; border: 1px solid black; background-color: blue\"></td><td style=\"width: 30px; height: 30px; border: 1px solid black; background-color: blue\"></td><td style=\"width: 30px; height: 30px; border: 1px solid black; background-color: blue\"></td><td style=\"width: 30px; height: 30px; border: 1px solid black; background-color: blue\"></td><td style=\"width: 30px; height: 30px; border: 1px solid black; background-color: blue\"></td><td style=\"width: 30px; height: 30px; border: 1px solid black; background-color: blue\"></td></tr><tr><td style=\"width: 30px; height: 30px; border: 1px solid black; background-color: blue\"></td><td style=\"width: 30px; height: 30px; border: 1px solid black; background-color: blue\"></td><td style=\"width: 30px; height: 30px; border: 1px solid black; background-color: blue\"></td><td style=\"width: 30px; height: 30px; border: 1px solid black; background-color: blue\"></td><td style=\"width: 30px; height: 30px; border: 1px solid black; background-color: blue\"></td><td style=\"width: 30px; height: 30px; border: 1px solid black; background-color: blue\"></td><td style=\"width: 30px; height: 30px; border: 1px solid black; background-color: blue\"></td><td style=\"width: 30px; height: 30px; border: 1px solid black; background-color: blue\"></td><td style=\"width: 30px; height: 30px; border: 1px solid black; background-color: blue\"></td><td style=\"width: 30px; height: 30px; border: 1px solid black; background-color: blue\"></td></tr><tr><td style=\"width: 30px; height: 30px; border: 1px solid black; background-color: blue\"></td><td style=\"width: 30px; height: 30px; border: 1px solid black; background-color: blue\"></td><td style=\"width: 30px; height: 30px; border: 1px solid black; background-color: blue\"></td><td style=\"width: 30px; height: 30px; border: 1px solid black; background-color: blue\"></td><td style=\"width: 30px; height: 30px; border: 1px solid black; background-color: blue\"></td><td style=\"width: 30px; height: 30px; border: 1px solid black; background-color: blue\"></td><td style=\"width: 30px; height: 30px; border: 1px solid black; background-color: blue\"></td><td style=\"width: 30px; height: 30px; border: 1px solid black; background-color: blue\"></td><td style=\"width: 30px; height: 30px; border: 1px solid black; background-color: blue\"></td><td style=\"width: 30px; height: 30px; border: 1px solid black; background-color: blue\"></td></tr><tr><td style=\"width: 30px; height: 30px; border: 1px solid black; background-color: blue\"></td><td style=\"width: 30px; height: 30px; border: 1px solid black; background-color: blue\"></td><td style=\"width: 30px; height: 30px; border: 1px solid black; background-color: blue\"></td><td style=\"width: 30px; height: 30px; border: 1px solid black; background-color: blue\"></td><td style=\"width: 30px; height: 30px; border: 1px solid black; background-color: blue\"></td><td style=\"width: 30px; height: 30px; border: 1px solid black; background-color: blue\"></td><td style=\"width: 30px; height: 30px; border: 1px solid black; background-color: blue\"></td><td style=\"width: 30px; height: 30px; border: 1px solid black; background-color: blue\"></td><td style=\"width: 30px; height: 30px; border: 1px solid black; background-color: blue\"></td><td style=\"width: 30px; height: 30px; border: 1px solid black; background-color: blue\"></td></tr><tr><td style=\"width: 30px; height: 30px; border: 1px solid black; background-color: blue\"></td><td style=\"width: 30px; height: 30px; border: 1px solid black; background-color: blue\"></td><td style=\"width: 30px; height: 30px; border: 1px solid black; background-color: blue\"></td><td style=\"width: 30px; height: 30px; border: 1px solid black; background-color: blue\"></td><td style=\"width: 30px; height: 30px; border: 1px solid black; background-color: blue\"></td><td style=\"width: 30px; height: 30px; border: 1px solid black; background-color: blue\"></td><td style=\"width: 30px; height: 30px; border: 1px solid black; background-color: blue\"></td><td style=\"width: 30px; height: 30px; border: 1px solid black; background-color: blue\"></td><td style=\"width: 30px; height: 30px; border: 1px solid black; background-color: blue\"></td><td style=\"width: 30px; height: 30px; border: 1px solid black; background-color: blue\"></td></tr><tr><td style=\"width: 30px; height: 30px; border: 1px solid black; background-color: blue\"></td><td style=\"width: 30px; height: 30px; border: 1px solid black; background-color: blue\"></td><td style=\"width: 30px; height: 30px; border: 1px solid black; background-color: blue\"></td><td style=\"width: 30px; height: 30px; border: 1px solid black; background-color: blue\"></td><td style=\"width: 30px; height: 30px; border: 1px solid black; background-color: blue\"></td><td style=\"width: 30px; height: 30px; border: 1px solid black; background-color: blue\"></td><td style=\"width: 30px; height: 30px; border: 1px solid black; background-color: blue\"></td><td style=\"width: 30px; height: 30px; border: 1px solid black; background-color: blue\"></td><td style=\"width: 30px; height: 30px; border: 1px solid black; background-color: blue\"></td><td style=\"width: 30px; height: 30px; border: 1px solid black; background-color: blue\"></td></tr></table>"
            ]
          },
          "metadata": {}
        },
        {
          "output_type": "stream",
          "name": "stdout",
          "text": [
            "To erase cells, run: erase_cell(x, y)\n",
            "where x and y are positions from 0-9\n",
            "Example: erase_cell(3, 4)\n"
          ]
        }
      ]
    },
    {
      "cell_type": "markdown",
      "source": [
        "#**04_flowing_with_data_structures**"
      ],
      "metadata": {
        "id": "iUFSTvfRVs1h"
      }
    },
    {
      "cell_type": "code",
      "source": [
        "def add_three_copies(my_list, data):\n",
        "    for i in range(3):\n",
        "        my_list.append(data)\n",
        "\n",
        "def main():\n",
        "    message = input(\"Enter a message to copy: \")\n",
        "    my_list = []\n",
        "    print(\"List before:\", my_list)\n",
        "    add_three_copies(my_list, message)\n",
        "    print(\"List after:\", my_list)\n",
        "\n",
        "if __name__ == \"__main__\":\n",
        "    main()"
      ],
      "metadata": {
        "colab": {
          "base_uri": "https://localhost:8080/"
        },
        "id": "qGyVONnGVwKe",
        "outputId": "288b0088-619d-4336-b55c-c30831def748"
      },
      "execution_count": 11,
      "outputs": [
        {
          "output_type": "stream",
          "name": "stdout",
          "text": [
            "Enter a message to copy: hi\n",
            "List before: []\n",
            "List after: ['hi', 'hi', 'hi']\n"
          ]
        }
      ]
    },
    {
      "cell_type": "markdown",
      "source": [
        "#**05_get_first_element**"
      ],
      "metadata": {
        "id": "gK8Ri00lWGBK"
      }
    },
    {
      "cell_type": "code",
      "source": [
        "\n",
        "def get_first_element(lst):\n",
        "    \"\"\"\n",
        "    Prints the first element of a provided list.\n",
        "    \"\"\"\n",
        "\n",
        "    print(lst[0])\n",
        "\n",
        "\n",
        "def get_lst():\n",
        "    \"\"\"\n",
        "    Prompts the user to enter one element of the list at a time and returns the resulting list.\n",
        "    \"\"\"\n",
        "    lst = []\n",
        "    elem: str = input(\"Please enter an element of the list or press enter to stop. \")\n",
        "    while elem != \"\":\n",
        "        lst.append(elem)\n",
        "        elem = input(\"Please enter an element of the list or press enter to stop. \")\n",
        "    return lst\n",
        "\n",
        "def main():\n",
        "    lst = get_lst()\n",
        "    get_first_element(lst)\n",
        "\n",
        "\n",
        "if __name__ == '__main__':\n",
        "    main()"
      ],
      "metadata": {
        "colab": {
          "base_uri": "https://localhost:8080/"
        },
        "id": "kbIEWE7oWJub",
        "outputId": "bbbf122f-8559-41c5-db9f-be5d62ccd3d1"
      },
      "execution_count": 12,
      "outputs": [
        {
          "output_type": "stream",
          "name": "stdout",
          "text": [
            "Please enter an element of the list or press enter to stop. no\n",
            "Please enter an element of the list or press enter to stop. yes\n",
            "Please enter an element of the list or press enter to stop. stop\n",
            "Please enter an element of the list or press enter to stop. stop\n",
            "Please enter an element of the list or press enter to stop. stop.\n",
            "Please enter an element of the list or press enter to stop. \n",
            "no\n"
          ]
        }
      ]
    },
    {
      "cell_type": "markdown",
      "source": [
        "#**06_get_last_element**"
      ],
      "metadata": {
        "id": "QCOo_efXWdkT"
      }
    },
    {
      "cell_type": "code",
      "source": [
        "def get_last_element(lst):\n",
        "    last_element = lst[-1]\n",
        "    print(last_element)\n",
        "\n",
        "def main():\n",
        "    # Test cases\n",
        "    test_list1 = [1, 2, 3, 4, 5]\n",
        "    test_list2 = ['a', 'b', 'c']\n",
        "    test_list3 = [10]\n",
        "\n",
        "    print(\"Test 1:\")\n",
        "    get_last_element(test_list1)\n",
        "    print(\"\\nTest 2:\")\n",
        "    get_last_element(test_list2)\n",
        "    print(\"\\nTest 3:\")\n",
        "    get_last_element(test_list3)\n",
        "\n",
        "if __name__ == '__main__':\n",
        "    main()"
      ],
      "metadata": {
        "colab": {
          "base_uri": "https://localhost:8080/"
        },
        "id": "MCr-WNveWirM",
        "outputId": "975a14af-4555-4335-8416-f28c9150dd5d"
      },
      "execution_count": 15,
      "outputs": [
        {
          "output_type": "stream",
          "name": "stdout",
          "text": [
            "Test 1:\n",
            "5\n",
            "\n",
            "Test 2:\n",
            "c\n",
            "\n",
            "Test 3:\n",
            "10\n"
          ]
        }
      ]
    },
    {
      "cell_type": "markdown",
      "source": [
        "#**07_get_list**"
      ],
      "metadata": {
        "id": "FtSiloz-Xgyo"
      }
    },
    {
      "cell_type": "code",
      "source": [
        "def main():\n",
        "    lst = []\n",
        "\n",
        "    val = input(\"Enter a value: \")\n",
        "    while val:\n",
        "        lst.append(val)\n",
        "        val = input(\"Enter a value: \")\n",
        "\n",
        "    print(\"Here's the list:\", lst)\n",
        "\n",
        "if __name__ == '__main__':\n",
        "    main()"
      ],
      "metadata": {
        "colab": {
          "base_uri": "https://localhost:8080/"
        },
        "id": "80iuUgEcXkPC",
        "outputId": "ddbe748c-9aef-4652-c418-e162daa49edb"
      },
      "execution_count": 16,
      "outputs": [
        {
          "output_type": "stream",
          "name": "stdout",
          "text": [
            "Enter a value: ok\n",
            "Enter a value: \n",
            "Here's the list: ['ok']\n"
          ]
        }
      ]
    },
    {
      "cell_type": "markdown",
      "source": [
        "#**08_shorten**"
      ],
      "metadata": {
        "id": "ymS4C8jbX1AT"
      }
    },
    {
      "cell_type": "code",
      "source": [
        "MAX_LENGTH : int = 3\n",
        "\n",
        "def shorten(lst):\n",
        "    while len(lst) > MAX_LENGTH:\n",
        "        last_elem = lst.pop()\n",
        "        print(last_elem)\n",
        "\n",
        "\n",
        "def get_lst():\n",
        "    \"\"\"\n",
        "    Prompts the user to enter one element of the list at a time and returns the resulting list.\n",
        "    \"\"\"\n",
        "    lst = []\n",
        "    elem = input(\"Please enter an element of the list or press enter to stop. \")\n",
        "    while elem != \"\":\n",
        "        lst.append(elem)\n",
        "        elem = input(\"Please enter an element of the list or press enter to stop. \")\n",
        "    return lst\n",
        "\n",
        "def main():\n",
        "    lst = get_lst()\n",
        "    shorten(lst)\n",
        "\n",
        "\n",
        "if __name__ == '__main__':\n",
        "    main()"
      ],
      "metadata": {
        "colab": {
          "base_uri": "https://localhost:8080/"
        },
        "id": "focg7WxqX4pV",
        "outputId": "d6a0727f-e23d-4a4e-8f4d-5b90b7cb484a"
      },
      "execution_count": 17,
      "outputs": [
        {
          "name": "stdout",
          "output_type": "stream",
          "text": [
            "Please enter an element of the list or press enter to stop. hi\n",
            "Please enter an element of the list or press enter to stop. \n"
          ]
        }
      ]
    }
  ]
}