{
  "nbformat": 4,
  "nbformat_minor": 0,
  "metadata": {
    "colab": {
      "provenance": [],
      "authorship_tag": "ABX9TyOUg/sSYJDUetoKuNS+7vrA",
      "include_colab_link": true
    },
    "kernelspec": {
      "name": "python3",
      "display_name": "Python 3"
    },
    "language_info": {
      "name": "python"
    }
  },
  "cells": [
    {
      "cell_type": "markdown",
      "metadata": {
        "id": "view-in-github",
        "colab_type": "text"
      },
      "source": [
        "<a href=\"https://colab.research.google.com/github/Rizwan114/Project_04/blob/main/05_loops_control_flow.ipynb\" target=\"_parent\"><img src=\"https://colab.research.google.com/assets/colab-badge.svg\" alt=\"Open In Colab\"/></a>"
      ]
    },
    {
      "cell_type": "markdown",
      "source": [
        "#**00_guess_my_number**"
      ],
      "metadata": {
        "id": "PyagJuxNjMD8"
      }
    },
    {
      "cell_type": "code",
      "execution_count": null,
      "metadata": {
        "colab": {
          "base_uri": "https://localhost:8080/"
        },
        "id": "liaVvoo2jEKh",
        "outputId": "b0834b01-f4fc-438d-9bd6-8bf245d5e031"
      },
      "outputs": [
        {
          "output_type": "stream",
          "name": "stdout",
          "text": [
            "I am thinking of a number between 1 and 99...\n"
          ]
        }
      ],
      "source": [
        "import random\n",
        "\n",
        "def main():\n",
        "\n",
        "    secret_number = random.randint(1, 99)\n",
        "\n",
        "    print(\"I am thinking of a number between 1 and 99...\")\n",
        "\n",
        "    guess = int(input(\"Enter a guess: \"))\n",
        "\n",
        "    while guess != secret_number:\n",
        "        if guess < secret_number:\n",
        "            print(\"Your guess is too low\")\n",
        "        else:\n",
        "            print(\"Your guess is too high\")\n",
        "\n",
        "        print()\n",
        "\n",
        "        # Get user input and handle potential errors\n",
        "        while True:\n",
        "            try:\n",
        "                guess = int(input(\"Enter a new guess: \"))\n",
        "                break  # Exit loop if input is a valid integer\n",
        "            except ValueError:\n",
        "                print(\"Invalid input. Please enter a number.\")\n",
        "\n",
        "    print(\"Congrats! The number was: \" + str(secret_number))\n",
        "\n",
        "if __name__ == '__main__':\n",
        "    main()"
      ]
    },
    {
      "cell_type": "markdown",
      "source": [
        "#**01_fibonacci**"
      ],
      "metadata": {
        "id": "w__KEn0lmMJV"
      }
    },
    {
      "cell_type": "code",
      "source": [
        "import sys\n",
        "\n",
        "def main():\n",
        "    max_value = 10000\n",
        "    a, b = 0, 1\n",
        "\n",
        "    while a <= max_value:\n",
        "        print(a, end=' ', flush=True)\n",
        "        sys.stdout.flush()\n",
        "        a, b = b, a + b\n",
        "    print()\n",
        "\n",
        "if __name__ == '__main__':\n",
        "    main()"
      ],
      "metadata": {
        "colab": {
          "base_uri": "https://localhost:8080/"
        },
        "id": "Fa0b0EPEmUjS",
        "outputId": "adb0a2d5-a782-4d7e-a3cf-e4b7b0c8b01f"
      },
      "execution_count": 7,
      "outputs": [
        {
          "output_type": "stream",
          "name": "stdout",
          "text": [
            "0 1 1 2 3 5 8 13 21 34 55 89 144 233 377 610 987 1597 2584 4181 6765 \n"
          ]
        }
      ]
    },
    {
      "cell_type": "markdown",
      "source": [
        "#**02_print_events**"
      ],
      "metadata": {
        "id": "EARS2ys3nIUd"
      }
    },
    {
      "cell_type": "code",
      "source": [
        "import sys\n",
        "\n",
        "def main():\n",
        "\n",
        "    for i in range(20):\n",
        "        print(i * 2, end=' ', flush=True)\n",
        "        sys.stdout.flush()\n",
        "    print()\n",
        "\n",
        "if __name__ == \"__main__\":\n",
        "    main()"
      ],
      "metadata": {
        "colab": {
          "base_uri": "https://localhost:8080/"
        },
        "id": "YnIH5yh8nOmS",
        "outputId": "df088e97-1d0e-481d-b27d-8454057bd49d"
      },
      "execution_count": 8,
      "outputs": [
        {
          "output_type": "stream",
          "name": "stdout",
          "text": [
            "0 2 4 6 8 10 12 14 16 18 20 22 24 26 28 30 32 34 36 38 \n"
          ]
        }
      ]
    },
    {
      "cell_type": "markdown",
      "source": [
        "#**03_wholesome_machine**"
      ],
      "metadata": {
        "id": "2if9yvMzo9wb"
      }
    },
    {
      "cell_type": "code",
      "source": [
        "AFFIRMATION: str = \"I am capable of doing anything I put my mind to.\"\n",
        "\n",
        "def main():\n",
        "    print(\"Please type the following affirmation: \" + AFFIRMATION)\n",
        "\n",
        "    user_input = input()\n",
        "\n",
        "    while user_input != AFFIRMATION:\n",
        "        print(\"That was not the affirmation.\")\n",
        "        print(\"Please type the following affirmation: \" + AFFIRMATION)\n",
        "        user_input = input()\n",
        "\n",
        "    print(\"That's right! :)\")\n",
        "\n",
        "if __name__ == '__main__':\n",
        "    main()\n"
      ],
      "metadata": {
        "id": "P-B8SRlvo1p9"
      },
      "execution_count": null,
      "outputs": []
    },
    {
      "cell_type": "markdown",
      "source": [
        "#**04_liftoff**"
      ],
      "metadata": {
        "id": "rBe_2gk5r5Un"
      }
    },
    {
      "cell_type": "code",
      "source": [
        "import sys\n",
        "\n",
        "def main():\n",
        "\n",
        "    for i in range(10):\n",
        "        print(10 - i, end=' ', flush=True)\n",
        "        sys.stdout.flush()\n",
        "\n",
        "    print(\"Liftoff!\")\n",
        "\n",
        "if __name__ == '__main__':\n",
        "    main()"
      ],
      "metadata": {
        "colab": {
          "base_uri": "https://localhost:8080/"
        },
        "id": "I3IF109Or94I",
        "outputId": "75ce4789-7c0e-42db-e072-a40c4c1ca8a1"
      },
      "execution_count": 16,
      "outputs": [
        {
          "output_type": "stream",
          "name": "stdout",
          "text": [
            "10 9 8 7 6 5 4 3 2 1 Liftoff!\n"
          ]
        }
      ]
    },
    {
      "cell_type": "markdown",
      "source": [
        "#**05_double_it**"
      ],
      "metadata": {
        "id": "X4CoILyPsfyJ"
      }
    },
    {
      "cell_type": "code",
      "source": [
        "def main():\n",
        "\n",
        "    curr_value = int(input(\"Enter a number: \"))\n",
        "\n",
        "    while curr_value < 100:\n",
        "        curr_value = curr_value * 2\n",
        "        print(curr_value, end=\" \")\n",
        "\n",
        "if __name__ == '__main__':\n",
        "    main()"
      ],
      "metadata": {
        "colab": {
          "base_uri": "https://localhost:8080/"
        },
        "id": "qTRHZCuOsi50",
        "outputId": "b9f028d5-1ea1-4c05-bc98-86f37b7a4837"
      },
      "execution_count": 17,
      "outputs": [
        {
          "output_type": "stream",
          "name": "stdout",
          "text": [
            "Enter a number: 22\n",
            "44 88 176 "
          ]
        }
      ]
    }
  ]
}