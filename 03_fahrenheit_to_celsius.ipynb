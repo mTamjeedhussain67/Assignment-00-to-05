{
  "nbformat": 4,
  "nbformat_minor": 0,
  "metadata": {
    "colab": {
      "provenance": [],
      "authorship_tag": "ABX9TyO9haR1ItQcSZHD4d9AGpx9",
      "include_colab_link": true
    },
    "kernelspec": {
      "name": "python3",
      "display_name": "Python 3"
    },
    "language_info": {
      "name": "python"
    }
  },
  "cells": [
    {
      "cell_type": "markdown",
      "metadata": {
        "id": "view-in-github",
        "colab_type": "text"
      },
      "source": [
        "<a href=\"https://colab.research.google.com/github/mTamjeedhussain67/Assignment-00-to-05/blob/main/03_fahrenheit_to_celsius.ipynb\" target=\"_parent\"><img src=\"https://colab.research.google.com/assets/colab-badge.svg\" alt=\"Open In Colab\"/></a>"
      ]
    },
    {
      "cell_type": "code",
      "execution_count": 2,
      "metadata": {
        "colab": {
          "base_uri": "https://localhost:8080/"
        },
        "id": "qYtRQQoxoial",
        "outputId": "f48384b2-340b-4443-c4e3-46a1c3bbabbd"
      },
      "outputs": [
        {
          "output_type": "stream",
          "name": "stdout",
          "text": [
            "Enter the number in fahrenheit: 42\n",
            "Temperature 42.0F = 5.555555555555555C\n"
          ]
        }
      ],
      "source": [
        "def main():\n",
        "    fahrenheit = float(input(\"Enter the number in fahrenheit: \"))\n",
        "    celsius = (fahrenheit - 32) * 5.0 / 9.0\n",
        "    message : str = (f\"Temperature {fahrenheit}F = {celsius}C\")\n",
        "    print (message)\n",
        "\n",
        "if __name__ == \"__main__\":\n",
        "    main()"
      ]
    },
    {
      "cell_type": "code",
      "source": [],
      "metadata": {
        "id": "2jDPa6eWoxkZ"
      },
      "execution_count": null,
      "outputs": []
    }
  ]
}